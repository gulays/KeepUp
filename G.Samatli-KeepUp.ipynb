{
 "cells": [
  {
   "cell_type": "code",
   "execution_count": 2,
   "metadata": {
    "collapsed": false
   },
   "outputs": [],
   "source": [
    "import pandas as pd\n",
    "import json\n",
    "from pandas.io.json import json_normalize\n",
    "import numpy as np\n",
    "import matplotlib.pyplot as plt\n",
    "import seaborn as sns; sns.set(color_codes=True)\n",
    "from pylab import plot, show, text\n",
    "import datetime\n",
    "import matplotlib.dates as mdates\n",
    "import pylab\n",
    "%matplotlib inline\n"
   ]
  },
  {
   "cell_type": "code",
   "execution_count": 3,
   "metadata": {
    "collapsed": true
   },
   "outputs": [],
   "source": [
    "with open('amazon-meta.txt', 'r', encoding=\"utf8\") as f:\n",
    "    file_content = f.read()\n",
    "f.close()"
   ]
  },
  {
   "cell_type": "code",
   "execution_count": 4,
   "metadata": {
    "collapsed": false
   },
   "outputs": [
    {
     "data": {
      "text/plain": [
       "['# Full information about Amazon Share the Love products',\n",
       " 'Total items: 548552',\n",
       " '',\n",
       " 'Id:   0',\n",
       " 'ASIN: 0771044445',\n",
       " '  discontinued product',\n",
       " '',\n",
       " 'Id:   1',\n",
       " 'ASIN: 0827229534',\n",
       " '  title: Patterns of Preaching: A Sermon Sampler',\n",
       " '  group: Book',\n",
       " '  salesrank: 396585',\n",
       " '  similar: 5  0804215715  156101074X  0687023955  0687074231  082721619X',\n",
       " '  categories: 2',\n",
       " '   |Books[283155]|Subjects[1000]|Religion & Spirituality[22]|Christianity[12290]|Clergy[12360]|Preaching[12368]',\n",
       " '   |Books[283155]|Subjects[1000]|Religion & Spirituality[22]|Christianity[12290]|Clergy[12360]|Sermons[12370]',\n",
       " '  reviews: total: 2  downloaded: 2  avg rating: 5',\n",
       " '    2000-7-28  cutomer: A2JW67OY8U6HHK  rating: 5  votes:  10  helpful:   9',\n",
       " '    2003-12-14  cutomer: A2VE83MZF98ITY  rating: 5  votes:   6  helpful:   5',\n",
       " '',\n",
       " 'Id:   2',\n",
       " 'ASIN: 0738700797',\n",
       " '  title: Candlemas: Feast of Flames',\n",
       " '  group: Book',\n",
       " '  salesrank: 168596',\n",
       " '  similar: 5  0738700827  1567184960  1567182836  0738700525  0738700940',\n",
       " '  categories: 2',\n",
       " '   |Books[283155]|Subjects[1000]|Religion & Spirituality[22]|Earth-Based Religions[12472]|Wicca[12484]',\n",
       " '   |Books[283155]|Subjects[1000]|Religion & Spirituality[22]|Earth-Based Religions[12472]|Witchcraft[12486]',\n",
       " '  reviews: total: 12  downloaded: 12  avg rating: 4.5']"
      ]
     },
     "execution_count": 4,
     "metadata": {},
     "output_type": "execute_result"
    }
   ],
   "source": [
    "sample = []\n",
    "for string in file_content.split('\\n')[:30]:\n",
    "    sample.append(string)\n",
    "    \n",
    "sample\n",
    "# The first 3 line is descriptive\n",
    "# Each product is separated with '',\n"
   ]
  },
  {
   "cell_type": "code",
   "execution_count": 5,
   "metadata": {
    "collapsed": false
   },
   "outputs": [],
   "source": [
    "#The following two lists are created to save data of each product. \n",
    "#product list contains each info of a product, then this set will append to df.\n",
    "data = []\n",
    "product = []\n",
    "\n",
    "for string in file_content.split('\\n')[3:]:\n",
    "    if string != '': #till the '' every info belongs to the same product\n",
    "        product.append(string)\n",
    "    else: \n",
    "        data.append(product)\n",
    "        product = []"
   ]
  },
  {
   "cell_type": "code",
   "execution_count": 6,
   "metadata": {
    "collapsed": false
   },
   "outputs": [
    {
     "data": {
      "text/plain": [
       "[['Id:   0', 'ASIN: 0771044445', '  discontinued product'],\n",
       " ['Id:   1',\n",
       "  'ASIN: 0827229534',\n",
       "  '  title: Patterns of Preaching: A Sermon Sampler',\n",
       "  '  group: Book',\n",
       "  '  salesrank: 396585',\n",
       "  '  similar: 5  0804215715  156101074X  0687023955  0687074231  082721619X',\n",
       "  '  categories: 2',\n",
       "  '   |Books[283155]|Subjects[1000]|Religion & Spirituality[22]|Christianity[12290]|Clergy[12360]|Preaching[12368]',\n",
       "  '   |Books[283155]|Subjects[1000]|Religion & Spirituality[22]|Christianity[12290]|Clergy[12360]|Sermons[12370]',\n",
       "  '  reviews: total: 2  downloaded: 2  avg rating: 5',\n",
       "  '    2000-7-28  cutomer: A2JW67OY8U6HHK  rating: 5  votes:  10  helpful:   9',\n",
       "  '    2003-12-14  cutomer: A2VE83MZF98ITY  rating: 5  votes:   6  helpful:   5'],\n",
       " ['Id:   2',\n",
       "  'ASIN: 0738700797',\n",
       "  '  title: Candlemas: Feast of Flames',\n",
       "  '  group: Book',\n",
       "  '  salesrank: 168596',\n",
       "  '  similar: 5  0738700827  1567184960  1567182836  0738700525  0738700940',\n",
       "  '  categories: 2',\n",
       "  '   |Books[283155]|Subjects[1000]|Religion & Spirituality[22]|Earth-Based Religions[12472]|Wicca[12484]',\n",
       "  '   |Books[283155]|Subjects[1000]|Religion & Spirituality[22]|Earth-Based Religions[12472]|Witchcraft[12486]',\n",
       "  '  reviews: total: 12  downloaded: 12  avg rating: 4.5',\n",
       "  '    2001-12-16  cutomer: A11NCO6YTE4BTJ  rating: 5  votes:   5  helpful:   4',\n",
       "  '    2002-1-7  cutomer:  A9CQ3PLRNIR83  rating: 4  votes:   5  helpful:   5',\n",
       "  '    2002-1-24  cutomer: A13SG9ACZ9O5IM  rating: 5  votes:   8  helpful:   8',\n",
       "  '    2002-1-28  cutomer: A1BDAI6VEYMAZA  rating: 5  votes:   4  helpful:   4',\n",
       "  '    2002-2-6  cutomer: A2P6KAWXJ16234  rating: 4  votes:  16  helpful:  16',\n",
       "  '    2002-2-14  cutomer:  AMACWC3M7PQFR  rating: 4  votes:   5  helpful:   5',\n",
       "  '    2002-3-23  cutomer: A3GO7UV9XX14D8  rating: 4  votes:   6  helpful:   6',\n",
       "  '    2002-5-23  cutomer: A1GIL64QK68WKL  rating: 5  votes:   8  helpful:   8',\n",
       "  '    2003-2-25  cutomer:  AEOBOF2ONQJWV  rating: 5  votes:   8  helpful:   5',\n",
       "  '    2003-11-25  cutomer: A3IGHTES8ME05L  rating: 5  votes:   5  helpful:   5',\n",
       "  '    2004-2-11  cutomer: A1CP26N8RHYVVO  rating: 1  votes:  13  helpful:   9',\n",
       "  '    2005-2-7  cutomer:  ANEIANH0WAT9D  rating: 5  votes:   1  helpful:   1'],\n",
       " ['Id:   3',\n",
       "  'ASIN: 0486287785',\n",
       "  '  title: World War II Allied Fighter Planes Trading Cards',\n",
       "  '  group: Book',\n",
       "  '  salesrank: 1270652',\n",
       "  '  similar: 0',\n",
       "  '  categories: 1',\n",
       "  '   |Books[283155]|Subjects[1000]|Home & Garden[48]|Crafts & Hobbies[5126]|General[5144]',\n",
       "  '  reviews: total: 1  downloaded: 1  avg rating: 5',\n",
       "  '    2003-7-10  cutomer: A3IDGASRQAW8B2  rating: 5  votes:   2  helpful:   2'],\n",
       " ['Id:   4',\n",
       "  'ASIN: 0842328327',\n",
       "  '  title: Life Application Bible Commentary: 1 and 2 Timothy and Titus',\n",
       "  '  group: Book',\n",
       "  '  salesrank: 631289',\n",
       "  '  similar: 5  0842328130  0830818138  0842330313  0842328610  0842328572',\n",
       "  '  categories: 5',\n",
       "  '   |Books[283155]|Subjects[1000]|Religion & Spirituality[22]|Christianity[12290]|Reference[172810]|Commentaries[12155]|New Testament[12159]',\n",
       "  '   |Books[283155]|Subjects[1000]|Religion & Spirituality[22]|Christianity[12290]|Christian Living[12333]|Discipleship[12335]',\n",
       "  '   |Books[283155]|Subjects[1000]|Religion & Spirituality[22]|Christianity[12290]|Bibles[12059]|Translations[764432]|Life Application[572080]',\n",
       "  '   |Books[283155]|Subjects[1000]|Religion & Spirituality[22]|Bible & Other Sacred Texts[12056]|Bible[764430]|New Testament[572082]',\n",
       "  '   |Books[283155]|Subjects[1000]|Religion & Spirituality[22]|Christianity[12290]|Bibles[12059]|Study Guides, History & Reference[764438]|General[572094]',\n",
       "  '  reviews: total: 1  downloaded: 1  avg rating: 4',\n",
       "  '    2004-8-19  cutomer: A2591BUPXCS705  rating: 4  votes:   1  helpful:   1']]"
      ]
     },
     "execution_count": 6,
     "metadata": {},
     "output_type": "execute_result"
    }
   ],
   "source": [
    "data[0:5]\n",
    "#the data is more readeble now, still needs to extract certain info for each product. "
   ]
  },
  {
   "cell_type": "code",
   "execution_count": null,
   "metadata": {
    "collapsed": false
   },
   "outputs": [],
   "source": [
    "#playing with data\n",
    "P1 = ['Id:   1',\n",
    "  'ASIN: 0827229534',\n",
    "  '  title: Patterns of Preaching: A Sermon Sampler',\n",
    "  '  group: Book',\n",
    "  '  salesrank: 396585',\n",
    "  '  similar: 5  0804215715  156101074X  0687023955  0687074231  082721619X',\n",
    "  '  categories: 2',\n",
    "  '   |Books[283155]|Subjects[1000]|Religion & Spirituality[22]|Christianity[12290]|Clergy[12360]|Preaching[12368]',\n",
    "  '   |Books[283155]|Subjects[1000]|Religion & Spirituality[22]|Christianity[12290]|Clergy[12360]|Sermons[12370]',\n",
    "  '  reviews: total: 2  downloaded: 2  avg rating: 5',\n",
    "  '    2000-7-28  cutomer: A2JW67OY8U6HHK  rating: 5  votes:  10  helpful:   9',\n",
    "  '    2003-12-14  cutomer: A2VE83MZF98ITY  rating: 5  votes:   6  helpful:   5']\n",
    "\n",
    "P1[9]"
   ]
  },
  {
   "cell_type": "markdown",
   "metadata": {},
   "source": [
    "The data set named 'data' is a list of items where each item represents each product's information. "
   ]
  },
  {
   "cell_type": "markdown",
   "metadata": {},
   "source": [
    "# 1. Trustworthiness of ratings\n",
    "Ratings are susceptible to manipulation, bias etc. What can you say (quantitatively speaking) about the ratings in this dataset?\n"
   ]
  },
  {
   "cell_type": "code",
   "execution_count": 7,
   "metadata": {
    "collapsed": false
   },
   "outputs": [],
   "source": [
    "# From set df, ratings need to be extracted. \n",
    "df_ratings = {}\n",
    "\n",
    "for product in data:\n",
    "    Id = ''\n",
    "    group = ''\n",
    "    total_reviews = ''\n",
    "    downloaded_review =''\n",
    "    avg_rating = ''\n",
    "    \n",
    "    for info in product:\n",
    "        if info.startswith('Id:'):\n",
    "            Id = info.split()[-1]\n",
    "        elif info.startswith('  group:'):\n",
    "            group = info.split()[-1]\n",
    "        elif info.startswith('  reviews:'):\n",
    "            total_reviews = info.split()[2]\n",
    "            downloaded_review = info.split()[4]\n",
    "            avg_rating = info.split()[7]\n",
    "        elif info.startswith('  discontinued product'):\n",
    "            skip = True\n",
    "    if skip == False:\n",
    "        df_ratings[Id]= [group, total_reviews, downloaded_review, avg_rating]\n",
    "    else:\n",
    "        skip = False\n",
    "    "
   ]
  },
  {
   "cell_type": "code",
   "execution_count": 8,
   "metadata": {
    "collapsed": false
   },
   "outputs": [
    {
     "data": {
      "text/html": [
       "<div>\n",
       "<table border=\"1\" class=\"dataframe\">\n",
       "  <thead>\n",
       "    <tr style=\"text-align: right;\">\n",
       "      <th></th>\n",
       "      <th>id</th>\n",
       "      <th>group</th>\n",
       "      <th>total</th>\n",
       "      <th>downloaded</th>\n",
       "      <th>avg_rating</th>\n",
       "    </tr>\n",
       "  </thead>\n",
       "  <tbody>\n",
       "    <tr>\n",
       "      <th>1</th>\n",
       "      <td>1</td>\n",
       "      <td>Book</td>\n",
       "      <td>2</td>\n",
       "      <td>2</td>\n",
       "      <td>5.0</td>\n",
       "    </tr>\n",
       "    <tr>\n",
       "      <th>109902</th>\n",
       "      <td>2</td>\n",
       "      <td>Book</td>\n",
       "      <td>12</td>\n",
       "      <td>12</td>\n",
       "      <td>4.5</td>\n",
       "    </tr>\n",
       "    <tr>\n",
       "      <th>219674</th>\n",
       "      <td>3</td>\n",
       "      <td>Book</td>\n",
       "      <td>1</td>\n",
       "      <td>1</td>\n",
       "      <td>5.0</td>\n",
       "    </tr>\n",
       "    <tr>\n",
       "      <th>329477</th>\n",
       "      <td>4</td>\n",
       "      <td>Book</td>\n",
       "      <td>1</td>\n",
       "      <td>1</td>\n",
       "      <td>4.0</td>\n",
       "    </tr>\n",
       "    <tr>\n",
       "      <th>439371</th>\n",
       "      <td>5</td>\n",
       "      <td>Book</td>\n",
       "      <td>0</td>\n",
       "      <td>0</td>\n",
       "      <td>0.0</td>\n",
       "    </tr>\n",
       "  </tbody>\n",
       "</table>\n",
       "</div>"
      ],
      "text/plain": [
       "        id group  total  downloaded  avg_rating\n",
       "1        1  Book      2           2         5.0\n",
       "109902   2  Book     12          12         4.5\n",
       "219674   3  Book      1           1         5.0\n",
       "329477   4  Book      1           1         4.0\n",
       "439371   5  Book      0           0         0.0"
      ]
     },
     "execution_count": 8,
     "metadata": {},
     "output_type": "execute_result"
    }
   ],
   "source": [
    "    \n",
    "ratings = pd.DataFrame.from_dict(df_ratings)\n",
    "ratings = ratings.T.reset_index(drop=False)\n",
    "ratings.columns = ['id','group', 'total', 'downloaded', 'avg_rating']\n",
    "ratings = ratings.iloc[1:]\n",
    "ratings['id']  = ratings['id'].astype(int)\n",
    "ratings['total']  = ratings['total'].astype(int)\n",
    "ratings['downloaded']  = ratings['downloaded'].astype(int)\n",
    "ratings['avg_rating']  = ratings['avg_rating'].astype(float)\n",
    "ratings = ratings.sort_values('id')\n",
    "ratings.head()"
   ]
  },
  {
   "cell_type": "code",
   "execution_count": 9,
   "metadata": {
    "collapsed": false
   },
   "outputs": [
    {
     "data": {
      "text/html": [
       "<div>\n",
       "<table border=\"1\" class=\"dataframe\">\n",
       "  <thead>\n",
       "    <tr style=\"text-align: right;\">\n",
       "      <th></th>\n",
       "      <th>id</th>\n",
       "      <th>total</th>\n",
       "      <th>downloaded</th>\n",
       "      <th>avg_rating</th>\n",
       "    </tr>\n",
       "  </thead>\n",
       "  <tbody>\n",
       "    <tr>\n",
       "      <th>count</th>\n",
       "      <td>542684.000000</td>\n",
       "      <td>542684.000000</td>\n",
       "      <td>542684.000000</td>\n",
       "      <td>542684.000000</td>\n",
       "    </tr>\n",
       "    <tr>\n",
       "      <th>mean</th>\n",
       "      <td>274414.212208</td>\n",
       "      <td>14.339818</td>\n",
       "      <td>13.992017</td>\n",
       "      <td>3.209534</td>\n",
       "    </tr>\n",
       "    <tr>\n",
       "      <th>std</th>\n",
       "      <td>158454.479276</td>\n",
       "      <td>74.768369</td>\n",
       "      <td>71.908413</td>\n",
       "      <td>1.996296</td>\n",
       "    </tr>\n",
       "    <tr>\n",
       "      <th>min</th>\n",
       "      <td>1.000000</td>\n",
       "      <td>0.000000</td>\n",
       "      <td>0.000000</td>\n",
       "      <td>0.000000</td>\n",
       "    </tr>\n",
       "    <tr>\n",
       "      <th>25%</th>\n",
       "      <td>137161.750000</td>\n",
       "      <td>0.000000</td>\n",
       "      <td>0.000000</td>\n",
       "      <td>0.000000</td>\n",
       "    </tr>\n",
       "    <tr>\n",
       "      <th>50%</th>\n",
       "      <td>274427.500000</td>\n",
       "      <td>2.000000</td>\n",
       "      <td>2.000000</td>\n",
       "      <td>4.000000</td>\n",
       "    </tr>\n",
       "    <tr>\n",
       "      <th>75%</th>\n",
       "      <td>411674.250000</td>\n",
       "      <td>8.000000</td>\n",
       "      <td>7.000000</td>\n",
       "      <td>5.000000</td>\n",
       "    </tr>\n",
       "    <tr>\n",
       "      <th>max</th>\n",
       "      <td>548551.000000</td>\n",
       "      <td>5545.000000</td>\n",
       "      <td>4995.000000</td>\n",
       "      <td>5.000000</td>\n",
       "    </tr>\n",
       "  </tbody>\n",
       "</table>\n",
       "</div>"
      ],
      "text/plain": [
       "                  id          total     downloaded     avg_rating\n",
       "count  542684.000000  542684.000000  542684.000000  542684.000000\n",
       "mean   274414.212208      14.339818      13.992017       3.209534\n",
       "std    158454.479276      74.768369      71.908413       1.996296\n",
       "min         1.000000       0.000000       0.000000       0.000000\n",
       "25%    137161.750000       0.000000       0.000000       0.000000\n",
       "50%    274427.500000       2.000000       2.000000       4.000000\n",
       "75%    411674.250000       8.000000       7.000000       5.000000\n",
       "max    548551.000000    5545.000000    4995.000000       5.000000"
      ]
     },
     "execution_count": 9,
     "metadata": {},
     "output_type": "execute_result"
    }
   ],
   "source": [
    "ratings.describe()"
   ]
  },
  {
   "cell_type": "markdown",
   "metadata": {},
   "source": [
    "# Total reviews with respect to categories\n",
    "Books are the most reviewed items followed by music, DVD and videos. The percentage of products without review is 25%.\n",
    "\n",
    "When average ratings of each categories are investigated, it is seen that product, software and sports categories have larger ratings though the number of reviews for these categories are small. This shows that consumers who reviewed these products are the ones who have positive experiences with the product, i.e. mostly happy customers make reviews for these products. \n",
    "\n",
    "The lowest average rating categories are consumer electronics and games. These two categories also have the minimum number of reviews which shows that unhappy or unsatisfied customers mostly make reviews at these categories. \n",
    "\n",
    "Lastly, the categories with larger number of reviews have average ratings around 3 -3.5. "
   ]
  },
  {
   "cell_type": "code",
   "execution_count": 12,
   "metadata": {
    "collapsed": false
   },
   "outputs": [
    {
     "name": "stdout",
     "output_type": "stream",
     "text": [
      "0.2578830405908411\n"
     ]
    }
   ],
   "source": [
    "#products without review\n",
    "print(len(ratings[ratings['total']==0])/len(ratings))"
   ]
  },
  {
   "cell_type": "code",
   "execution_count": 13,
   "metadata": {
    "collapsed": false
   },
   "outputs": [
    {
     "data": {
      "text/plain": [
       "group\n",
       "Book        4707583\n",
       "CE                5\n",
       "DVD          834312\n",
       "Games             3\n",
       "Music       1411619\n",
       "Product           3\n",
       "Software         13\n",
       "Sports            5\n",
       "Toy              37\n",
       "Video        828410\n",
       "Name: total, dtype: int32"
      ]
     },
     "execution_count": 13,
     "metadata": {},
     "output_type": "execute_result"
    }
   ],
   "source": [
    "ratings.groupby(['group'])['total'].sum()"
   ]
  },
  {
   "cell_type": "code",
   "execution_count": 14,
   "metadata": {
    "collapsed": false
   },
   "outputs": [
    {
     "data": {
      "text/plain": [
       "group\n",
       "Book        3.051148\n",
       "CE          1.750000\n",
       "DVD         3.670996\n",
       "Games       2.500000\n",
       "Music       3.635529\n",
       "Product     4.500000\n",
       "Software    4.500000\n",
       "Sports      4.000000\n",
       "Toy         3.812500\n",
       "Video       3.563105\n",
       "Name: avg_rating, dtype: float64"
      ]
     },
     "execution_count": 14,
     "metadata": {},
     "output_type": "execute_result"
    }
   ],
   "source": [
    "ratings.groupby(['group'])['avg_rating'].mean()"
   ]
  },
  {
   "cell_type": "markdown",
   "metadata": {},
   "source": [
    "# 2. Category bloat \n",
    "Consider the product group named 'Books'. Each product in this group is associated with categories. Naturally, with categorization, there are tradeoffs between how broad or specific the categories must be.\n",
    "For this dataset, quantify the following:\n",
    "\n",
    "a. Is there redundancy in the categorization? How can it be identified/removed?\n",
    "\n",
    "**Looking at the data closer, it can easily be seen that there is redundancy in the categorization. For example, product with Id:1, i.e. data[1], has 2 subcategories. Similarly, product with Id:4, i.e. data[4], has 5 subcategories where each is very similar to another. **\n",
    "\n",
    "\n",
    "b. Is it possible to reduce the number of categories drastically (say to 10% of existing categories) by sacrificing relatively few category entries (say close to 10%)?\n",
    "\n",
    "\n",
    "**There are 12,853 number of unique categories for 393,561 books whereas the number of categories is 1,440,329. Each book has on average 3.7 categories. Reducing the number of categories will probably be useful, will not hurt searching. 'categories' data also shows that some sub_category names are authors name. **\n"
   ]
  },
  {
   "cell_type": "code",
   "execution_count": 15,
   "metadata": {
    "collapsed": false
   },
   "outputs": [
    {
     "data": {
      "text/plain": [
       "[['Id:   0', 'ASIN: 0771044445', '  discontinued product'],\n",
       " ['Id:   1',\n",
       "  'ASIN: 0827229534',\n",
       "  '  title: Patterns of Preaching: A Sermon Sampler',\n",
       "  '  group: Book',\n",
       "  '  salesrank: 396585',\n",
       "  '  similar: 5  0804215715  156101074X  0687023955  0687074231  082721619X',\n",
       "  '  categories: 2',\n",
       "  '   |Books[283155]|Subjects[1000]|Religion & Spirituality[22]|Christianity[12290]|Clergy[12360]|Preaching[12368]',\n",
       "  '   |Books[283155]|Subjects[1000]|Religion & Spirituality[22]|Christianity[12290]|Clergy[12360]|Sermons[12370]',\n",
       "  '  reviews: total: 2  downloaded: 2  avg rating: 5',\n",
       "  '    2000-7-28  cutomer: A2JW67OY8U6HHK  rating: 5  votes:  10  helpful:   9',\n",
       "  '    2003-12-14  cutomer: A2VE83MZF98ITY  rating: 5  votes:   6  helpful:   5'],\n",
       " ['Id:   2',\n",
       "  'ASIN: 0738700797',\n",
       "  '  title: Candlemas: Feast of Flames',\n",
       "  '  group: Book',\n",
       "  '  salesrank: 168596',\n",
       "  '  similar: 5  0738700827  1567184960  1567182836  0738700525  0738700940',\n",
       "  '  categories: 2',\n",
       "  '   |Books[283155]|Subjects[1000]|Religion & Spirituality[22]|Earth-Based Religions[12472]|Wicca[12484]',\n",
       "  '   |Books[283155]|Subjects[1000]|Religion & Spirituality[22]|Earth-Based Religions[12472]|Witchcraft[12486]',\n",
       "  '  reviews: total: 12  downloaded: 12  avg rating: 4.5',\n",
       "  '    2001-12-16  cutomer: A11NCO6YTE4BTJ  rating: 5  votes:   5  helpful:   4',\n",
       "  '    2002-1-7  cutomer:  A9CQ3PLRNIR83  rating: 4  votes:   5  helpful:   5',\n",
       "  '    2002-1-24  cutomer: A13SG9ACZ9O5IM  rating: 5  votes:   8  helpful:   8',\n",
       "  '    2002-1-28  cutomer: A1BDAI6VEYMAZA  rating: 5  votes:   4  helpful:   4',\n",
       "  '    2002-2-6  cutomer: A2P6KAWXJ16234  rating: 4  votes:  16  helpful:  16',\n",
       "  '    2002-2-14  cutomer:  AMACWC3M7PQFR  rating: 4  votes:   5  helpful:   5',\n",
       "  '    2002-3-23  cutomer: A3GO7UV9XX14D8  rating: 4  votes:   6  helpful:   6',\n",
       "  '    2002-5-23  cutomer: A1GIL64QK68WKL  rating: 5  votes:   8  helpful:   8',\n",
       "  '    2003-2-25  cutomer:  AEOBOF2ONQJWV  rating: 5  votes:   8  helpful:   5',\n",
       "  '    2003-11-25  cutomer: A3IGHTES8ME05L  rating: 5  votes:   5  helpful:   5',\n",
       "  '    2004-2-11  cutomer: A1CP26N8RHYVVO  rating: 1  votes:  13  helpful:   9',\n",
       "  '    2005-2-7  cutomer:  ANEIANH0WAT9D  rating: 5  votes:   1  helpful:   1'],\n",
       " ['Id:   3',\n",
       "  'ASIN: 0486287785',\n",
       "  '  title: World War II Allied Fighter Planes Trading Cards',\n",
       "  '  group: Book',\n",
       "  '  salesrank: 1270652',\n",
       "  '  similar: 0',\n",
       "  '  categories: 1',\n",
       "  '   |Books[283155]|Subjects[1000]|Home & Garden[48]|Crafts & Hobbies[5126]|General[5144]',\n",
       "  '  reviews: total: 1  downloaded: 1  avg rating: 5',\n",
       "  '    2003-7-10  cutomer: A3IDGASRQAW8B2  rating: 5  votes:   2  helpful:   2'],\n",
       " ['Id:   4',\n",
       "  'ASIN: 0842328327',\n",
       "  '  title: Life Application Bible Commentary: 1 and 2 Timothy and Titus',\n",
       "  '  group: Book',\n",
       "  '  salesrank: 631289',\n",
       "  '  similar: 5  0842328130  0830818138  0842330313  0842328610  0842328572',\n",
       "  '  categories: 5',\n",
       "  '   |Books[283155]|Subjects[1000]|Religion & Spirituality[22]|Christianity[12290]|Reference[172810]|Commentaries[12155]|New Testament[12159]',\n",
       "  '   |Books[283155]|Subjects[1000]|Religion & Spirituality[22]|Christianity[12290]|Christian Living[12333]|Discipleship[12335]',\n",
       "  '   |Books[283155]|Subjects[1000]|Religion & Spirituality[22]|Christianity[12290]|Bibles[12059]|Translations[764432]|Life Application[572080]',\n",
       "  '   |Books[283155]|Subjects[1000]|Religion & Spirituality[22]|Bible & Other Sacred Texts[12056]|Bible[764430]|New Testament[572082]',\n",
       "  '   |Books[283155]|Subjects[1000]|Religion & Spirituality[22]|Christianity[12290]|Bibles[12059]|Study Guides, History & Reference[764438]|General[572094]',\n",
       "  '  reviews: total: 1  downloaded: 1  avg rating: 4',\n",
       "  '    2004-8-19  cutomer: A2591BUPXCS705  rating: 4  votes:   1  helpful:   1'],\n",
       " ['Id:   5',\n",
       "  'ASIN: 1577943082',\n",
       "  '  title: Prayers That Avail Much for Business: Executive',\n",
       "  '  group: Book',\n",
       "  '  salesrank: 455160',\n",
       "  '  similar: 5  157794349X  0892749504  1577941829  0892749563  1577946006',\n",
       "  '  categories: 2',\n",
       "  '   |Books[283155]|Subjects[1000]|Religion & Spirituality[22]|Christianity[12290]|Worship & Devotion[12465]|Prayerbooks[12470]',\n",
       "  '   |Books[283155]|Subjects[1000]|Religion & Spirituality[22]|Christianity[12290]|Christian Living[12333]|Business[297488]',\n",
       "  '  reviews: total: 0  downloaded: 0  avg rating: 0'],\n",
       " ['Id:   6',\n",
       "  'ASIN: 0486220125',\n",
       "  '  title: How the Other Half Lives: Studies Among the Tenements of New York',\n",
       "  '  group: Book',\n",
       "  '  salesrank: 188784',\n",
       "  '  similar: 5  0486401960  0452283612  0486229076  0714840343  0374528993',\n",
       "  '  categories: 5',\n",
       "  '   |Books[283155]|Subjects[1000]|Arts & Photography[1]|Photography[2020]|Photo Essays[2082]',\n",
       "  '   |Books[283155]|Subjects[1000]|History[9]|Americas[4808]|United States[4853]|General[4870]',\n",
       "  '   |Books[283155]|Subjects[1000]|History[9]|Jewish[4992]|General[4993]',\n",
       "  '   |Books[283155]|Subjects[1000]|Nonfiction[53]|Social Sciences[11232]|Sociology[11288]|Urban[11296]',\n",
       "  '   |[172282]|Categories[493964]|Camera & Photo[502394]|Photography Books[733540]|Photo Essays[733676]',\n",
       "  '  reviews: total: 17  downloaded: 17  avg rating: 4',\n",
       "  '    1997-7-4  cutomer:  ATVPDKIKX0DER  rating: 5  votes:  12  helpful:  11',\n",
       "  '    1998-10-11  cutomer:  AUEZ7NVOEHYRY  rating: 5  votes:  13  helpful:  12',\n",
       "  '    1999-4-15  cutomer:  ATVPDKIKX0DER  rating: 5  votes:  18  helpful:   7',\n",
       "  '    2000-1-4  cutomer:  AJYG6ZJUQPZ9M  rating: 4  votes:  14  helpful:  10',\n",
       "  '    2000-2-8  cutomer: A2ESGJTTLJWIAK  rating: 5  votes:  17  helpful:  11',\n",
       "  '    2000-4-28  cutomer: A2CHULHAO3A9BY  rating: 5  votes:  23  helpful:  16',\n",
       "  '    2001-10-9  cutomer: A3BNWP7ATVP045  rating: 5  votes:   7  helpful:   6',\n",
       "  '    2002-9-26  cutomer:   AVOQ12GBXJ3F  rating: 2  votes:   6  helpful:   0',\n",
       "  '    2002-11-8  cutomer: A2NJO6YE954DBH  rating: 5  votes:  23  helpful:  21',\n",
       "  '    2002-12-4  cutomer: A393PYR83LT7R8  rating: 1  votes:   8  helpful:   8',\n",
       "  '    2003-4-21  cutomer:  AVY10FEFM6OBC  rating: 4  votes:   7  helpful:   1',\n",
       "  '    2003-7-24  cutomer: A2OSPW11FVXTU6  rating: 4  votes:   3  helpful:   2',\n",
       "  '    2003-10-10  cutomer: A32Z5HQGTG5V49  rating: 4  votes:   7  helpful:   4',\n",
       "  '    2003-10-21  cutomer: A2WSI8HOWHFDOT  rating: 5  votes:  27  helpful:  25',\n",
       "  '    2003-10-26  cutomer: A3BGC9MSXGM0WH  rating: 4  votes:  13  helpful:  10',\n",
       "  '    2003-12-30  cutomer: A1IU7S4HCK1XK0  rating: 5  votes:   4  helpful:   4',\n",
       "  '    2004-5-1  cutomer: A30JTDN020MAJB  rating: 4  votes:   4  helpful:   4'],\n",
       " ['Id:   7',\n",
       "  'ASIN: B00000AU3R',\n",
       "  '  title: Batik',\n",
       "  '  group: Music',\n",
       "  '  salesrank: 5392',\n",
       "  '  similar: 5  B00002616C  B0000261KX  B00006AM8D  B000059OB9  B0000261O7',\n",
       "  '  categories: 3',\n",
       "  '   |Music[5174]|Styles[301668]|Jazz[34]|General[63926]',\n",
       "  '   |Music[5174]|Styles[301668]|Jazz[34]|Modern Postbebop[63929]',\n",
       "  '   |Music[5174]|Specialty Stores[468040]|Imports[701208]|Jazz[916554]',\n",
       "  '  reviews: total: 3  downloaded: 3  avg rating: 4.5',\n",
       "  '    2000-5-22  cutomer: A2O3PW57IFNUHV  rating: 5  votes:  10  helpful:  10',\n",
       "  '    2002-8-19  cutomer: A3FNRL9QYZOBDH  rating: 4  votes:   0  helpful:   0',\n",
       "  '    2003-5-15  cutomer: A3SWAHVVHVPKWZ  rating: 5  votes:   5  helpful:   5'],\n",
       " ['Id:   8',\n",
       "  'ASIN: 0231118597',\n",
       "  '  title: Losing Matt Shepard',\n",
       "  '  group: Book',\n",
       "  '  salesrank: 277409',\n",
       "  '  similar: 5  B000067D0Y  0375727191  080148605X  1560232579  0300089023',\n",
       "  '  categories: 4',\n",
       "  '   |Books[283155]|Subjects[1000]|Gay & Lesbian[301889]|Nonfiction[10703]|General[10716]',\n",
       "  '   |Books[283155]|Subjects[1000]|Nonfiction[53]|Crime & Criminals[11003]|Criminology[11005]',\n",
       "  '   |Books[283155]|Subjects[1000]|Nonfiction[53]|Politics[11079]|General[11083]',\n",
       "  '   |Books[283155]|Subjects[1000]|Nonfiction[53]|Politics[11079]|U.S.[11117]',\n",
       "  '  reviews: total: 15  downloaded: 15  avg rating: 4.5',\n",
       "  '    2000-10-31  cutomer: A2F1X6YFCJZ1FH  rating: 5  votes:  10  helpful:   9',\n",
       "  '    2000-11-1  cutomer: A1OZQCZAK21S6M  rating: 5  votes:  13  helpful:  12',\n",
       "  '    2000-11-19  cutomer:  AL5D52NA8F67F  rating: 5  votes:  16  helpful:  13',\n",
       "  '    2001-4-16  cutomer:  AVFBIM1W41IXO  rating: 1  votes:   0  helpful:   0',\n",
       "  '    2001-5-10  cutomer: A3I6SOXDIE0M8R  rating: 5  votes:   6  helpful:   6',\n",
       "  '    2001-7-1  cutomer: A3559TE3F9RRNL  rating: 5  votes:   5  helpful:   5',\n",
       "  '    2001-8-25  cutomer:  ASPUU0H77LFXG  rating: 5  votes:   3  helpful:   3',\n",
       "  '    2001-9-13  cutomer: A3L902U49A6X5K  rating: 5  votes:   6  helpful:   6',\n",
       "  '    2001-10-25  cutomer:  AL5OEDM8TPTKV  rating: 5  votes:  10  helpful:  10',\n",
       "  '    2001-11-3  cutomer: A1R64WON03GTN4  rating: 5  votes:   1  helpful:   1',\n",
       "  '    2001-12-24  cutomer: A2WKESDGF2YC8S  rating: 5  votes:   8  helpful:   8',\n",
       "  '    2001-12-31  cutomer:  A71P2O8OMF8GY  rating: 5  votes:   7  helpful:   5',\n",
       "  '    2002-4-9  cutomer:  AB8HLDYSDI5M7  rating: 4  votes:  10  helpful:   4',\n",
       "  '    2002-9-23  cutomer: A37FDCXZLI0MAC  rating: 2  votes:  12  helpful:   5',\n",
       "  '    2003-9-3  cutomer:  AQE41QO3NEUMW  rating: 5  votes:   3  helpful:   2'],\n",
       " ['Id:   9',\n",
       "  'ASIN: 1859677800',\n",
       "  '  title: Making Bread: The Taste of Traditional Home-Baking',\n",
       "  '  group: Book',\n",
       "  '  salesrank: 949166',\n",
       "  '  similar: 0',\n",
       "  '  categories: 1',\n",
       "  '   |Books[283155]|Subjects[1000]|Cooking, Food & Wine[6]|Baking[4196]|Bread[4197]',\n",
       "  '  reviews: total: 0  downloaded: 0  avg rating: 0']]"
      ]
     },
     "execution_count": 15,
     "metadata": {},
     "output_type": "execute_result"
    }
   ],
   "source": [
    "data[0:10]"
   ]
  },
  {
   "cell_type": "code",
   "execution_count": 16,
   "metadata": {
    "collapsed": false
   },
   "outputs": [
    {
     "data": {
      "text/plain": [
       "['Id:   1',\n",
       " 'ASIN: 0827229534',\n",
       " '  title: Patterns of Preaching: A Sermon Sampler',\n",
       " '  group: Book',\n",
       " '  salesrank: 396585',\n",
       " '  similar: 5  0804215715  156101074X  0687023955  0687074231  082721619X',\n",
       " '  categories: 2',\n",
       " '   |Books[283155]|Subjects[1000]|Religion & Spirituality[22]|Christianity[12290]|Clergy[12360]|Preaching[12368]',\n",
       " '   |Books[283155]|Subjects[1000]|Religion & Spirituality[22]|Christianity[12290]|Clergy[12360]|Sermons[12370]',\n",
       " '  reviews: total: 2  downloaded: 2  avg rating: 5',\n",
       " '    2000-7-28  cutomer: A2JW67OY8U6HHK  rating: 5  votes:  10  helpful:   9',\n",
       " '    2003-12-14  cutomer: A2VE83MZF98ITY  rating: 5  votes:   6  helpful:   5']"
      ]
     },
     "execution_count": 16,
     "metadata": {},
     "output_type": "execute_result"
    }
   ],
   "source": [
    "data[1]\n"
   ]
  },
  {
   "cell_type": "code",
   "execution_count": 17,
   "metadata": {
    "collapsed": false
   },
   "outputs": [
    {
     "data": {
      "text/plain": [
       "['Id:   4',\n",
       " 'ASIN: 0842328327',\n",
       " '  title: Life Application Bible Commentary: 1 and 2 Timothy and Titus',\n",
       " '  group: Book',\n",
       " '  salesrank: 631289',\n",
       " '  similar: 5  0842328130  0830818138  0842330313  0842328610  0842328572',\n",
       " '  categories: 5',\n",
       " '   |Books[283155]|Subjects[1000]|Religion & Spirituality[22]|Christianity[12290]|Reference[172810]|Commentaries[12155]|New Testament[12159]',\n",
       " '   |Books[283155]|Subjects[1000]|Religion & Spirituality[22]|Christianity[12290]|Christian Living[12333]|Discipleship[12335]',\n",
       " '   |Books[283155]|Subjects[1000]|Religion & Spirituality[22]|Christianity[12290]|Bibles[12059]|Translations[764432]|Life Application[572080]',\n",
       " '   |Books[283155]|Subjects[1000]|Religion & Spirituality[22]|Bible & Other Sacred Texts[12056]|Bible[764430]|New Testament[572082]',\n",
       " '   |Books[283155]|Subjects[1000]|Religion & Spirituality[22]|Christianity[12290]|Bibles[12059]|Study Guides, History & Reference[764438]|General[572094]',\n",
       " '  reviews: total: 1  downloaded: 1  avg rating: 4',\n",
       " '    2004-8-19  cutomer: A2591BUPXCS705  rating: 4  votes:   1  helpful:   1']"
      ]
     },
     "execution_count": 17,
     "metadata": {},
     "output_type": "execute_result"
    }
   ],
   "source": [
    "data[4]"
   ]
  },
  {
   "cell_type": "code",
   "execution_count": 18,
   "metadata": {
    "collapsed": false
   },
   "outputs": [],
   "source": [
    "categories = []\n",
    "total_book = 0 \n",
    "\n",
    "for product in data:\n",
    "    group = ''\n",
    "    for item in product:\n",
    "        if item.startswith('  group:'):\n",
    "            group = item.split()[-1]\n",
    "        if group == 'Book':\n",
    "            if item.startswith('   |'):\n",
    "                categories.append(item.strip())\n",
    "    if group == 'Book':\n",
    "        total_book += 1 \n"
   ]
  },
  {
   "cell_type": "code",
   "execution_count": null,
   "metadata": {
    "collapsed": false
   },
   "outputs": [],
   "source": []
  },
  {
   "cell_type": "code",
   "execution_count": 20,
   "metadata": {
    "collapsed": false
   },
   "outputs": [
    {
     "name": "stdout",
     "output_type": "stream",
     "text": [
      "1440329\n"
     ]
    }
   ],
   "source": [
    "#total number of categories\n",
    "print(len(categories))\n"
   ]
  },
  {
   "cell_type": "code",
   "execution_count": 21,
   "metadata": {
    "collapsed": false
   },
   "outputs": [
    {
     "name": "stdout",
     "output_type": "stream",
     "text": [
      "12853\n"
     ]
    }
   ],
   "source": [
    "#total number of unique categories\n",
    "print(len(set(categories)))"
   ]
  },
  {
   "cell_type": "code",
   "execution_count": 22,
   "metadata": {
    "collapsed": false
   },
   "outputs": [
    {
     "data": {
      "text/plain": [
       "393561"
      ]
     },
     "execution_count": 22,
     "metadata": {},
     "output_type": "execute_result"
    }
   ],
   "source": [
    "total_book"
   ]
  },
  {
   "cell_type": "code",
   "execution_count": 23,
   "metadata": {
    "collapsed": false
   },
   "outputs": [],
   "source": [
    "sub_categories = []\n",
    "for item in categories:\n",
    "    for sub in item.split('|')[1:]:\n",
    "        sub_categories.append(sub)"
   ]
  },
  {
   "cell_type": "code",
   "execution_count": 24,
   "metadata": {
    "collapsed": false
   },
   "outputs": [],
   "source": [
    "from collections import Counter\n",
    "categories = Counter(sub_categories)\n"
   ]
  },
  {
   "cell_type": "code",
   "execution_count": 25,
   "metadata": {
    "collapsed": true
   },
   "outputs": [],
   "source": [
    "categories = pd.DataFrame.from_dict(categories, orient='index').reset_index()"
   ]
  },
  {
   "cell_type": "code",
   "execution_count": 26,
   "metadata": {
    "collapsed": false
   },
   "outputs": [
    {
     "data": {
      "text/html": [
       "<div>\n",
       "<table border=\"1\" class=\"dataframe\">\n",
       "  <thead>\n",
       "    <tr style=\"text-align: right;\">\n",
       "      <th></th>\n",
       "      <th>index</th>\n",
       "      <th>0</th>\n",
       "    </tr>\n",
       "  </thead>\n",
       "  <tbody>\n",
       "    <tr>\n",
       "      <th>14922</th>\n",
       "      <td>Unlikely Heroes[14155061]</td>\n",
       "      <td>1</td>\n",
       "    </tr>\n",
       "    <tr>\n",
       "      <th>12423</th>\n",
       "      <td>All Works by Elgar[18108]</td>\n",
       "      <td>1</td>\n",
       "    </tr>\n",
       "    <tr>\n",
       "      <th>14041</th>\n",
       "      <td>Basketball[2519]</td>\n",
       "      <td>1</td>\n",
       "    </tr>\n",
       "    <tr>\n",
       "      <th>12424</th>\n",
       "      <td>( F )[18353]</td>\n",
       "      <td>1</td>\n",
       "    </tr>\n",
       "    <tr>\n",
       "      <th>9906</th>\n",
       "      <td>Cyprus[4944]</td>\n",
       "      <td>1</td>\n",
       "    </tr>\n",
       "    <tr>\n",
       "      <th>14042</th>\n",
       "      <td>Basketball[733936]</td>\n",
       "      <td>1</td>\n",
       "    </tr>\n",
       "    <tr>\n",
       "      <th>9909</th>\n",
       "      <td>The Cooper Kids Adventures[280259]</td>\n",
       "      <td>1</td>\n",
       "    </tr>\n",
       "    <tr>\n",
       "      <th>12425</th>\n",
       "      <td>Franck, César[19108]</td>\n",
       "      <td>1</td>\n",
       "    </tr>\n",
       "    <tr>\n",
       "      <th>12422</th>\n",
       "      <td>Elgar, Sir Edward[18091]</td>\n",
       "      <td>1</td>\n",
       "    </tr>\n",
       "    <tr>\n",
       "      <th>12426</th>\n",
       "      <td>General[19118]</td>\n",
       "      <td>1</td>\n",
       "    </tr>\n",
       "    <tr>\n",
       "      <th>12429</th>\n",
       "      <td>Gesualdo, Carlo[19767]</td>\n",
       "      <td>1</td>\n",
       "    </tr>\n",
       "    <tr>\n",
       "      <th>12430</th>\n",
       "      <td>All Works by Gesualdo[19770]</td>\n",
       "      <td>1</td>\n",
       "    </tr>\n",
       "    <tr>\n",
       "      <th>14047</th>\n",
       "      <td>I Want to Know[280266]</td>\n",
       "      <td>1</td>\n",
       "    </tr>\n",
       "    <tr>\n",
       "      <th>14048</th>\n",
       "      <td>Actors &amp; Actresses[140]</td>\n",
       "      <td>1</td>\n",
       "    </tr>\n",
       "    <tr>\n",
       "      <th>14049</th>\n",
       "      <td>( S )[157485]</td>\n",
       "      <td>1</td>\n",
       "    </tr>\n",
       "    <tr>\n",
       "      <th>12431</th>\n",
       "      <td>Gibbons, Orlando[19812]</td>\n",
       "      <td>1</td>\n",
       "    </tr>\n",
       "    <tr>\n",
       "      <th>12432</th>\n",
       "      <td>Gluck, Christoph W.[20119]</td>\n",
       "      <td>1</td>\n",
       "    </tr>\n",
       "    <tr>\n",
       "      <th>12428</th>\n",
       "      <td>Gabrieli, Giovanni[19403]</td>\n",
       "      <td>1</td>\n",
       "    </tr>\n",
       "    <tr>\n",
       "      <th>14050</th>\n",
       "      <td>Spader, James[158841]</td>\n",
       "      <td>1</td>\n",
       "    </tr>\n",
       "    <tr>\n",
       "      <th>14038</th>\n",
       "      <td>Soutine, Chaim[1420]</td>\n",
       "      <td>1</td>\n",
       "    </tr>\n",
       "    <tr>\n",
       "      <th>14035</th>\n",
       "      <td>Satterthwait, Walter[69627]</td>\n",
       "      <td>1</td>\n",
       "    </tr>\n",
       "    <tr>\n",
       "      <th>12415</th>\n",
       "      <td>Dowland, John[17499]</td>\n",
       "      <td>1</td>\n",
       "    </tr>\n",
       "    <tr>\n",
       "      <th>14010</th>\n",
       "      <td>Hand of Thrawn[733746]</td>\n",
       "      <td>1</td>\n",
       "    </tr>\n",
       "    <tr>\n",
       "      <th>14011</th>\n",
       "      <td>Butler, Marilyn[5935]</td>\n",
       "      <td>1</td>\n",
       "    </tr>\n",
       "    <tr>\n",
       "      <th>14012</th>\n",
       "      <td>Daudet, Alphonse[70199]</td>\n",
       "      <td>1</td>\n",
       "    </tr>\n",
       "    <tr>\n",
       "      <th>9818</th>\n",
       "      <td>Lee, Tanith[7708]</td>\n",
       "      <td>1</td>\n",
       "    </tr>\n",
       "    <tr>\n",
       "      <th>12416</th>\n",
       "      <td>All Works by Dowland[17520]</td>\n",
       "      <td>1</td>\n",
       "    </tr>\n",
       "    <tr>\n",
       "      <th>13170</th>\n",
       "      <td>Russ, Joanna[15863]</td>\n",
       "      <td>1</td>\n",
       "    </tr>\n",
       "    <tr>\n",
       "      <th>9885</th>\n",
       "      <td>Bahrain[4996]</td>\n",
       "      <td>1</td>\n",
       "    </tr>\n",
       "    <tr>\n",
       "      <th>12417</th>\n",
       "      <td>Dufay, Guillaume[17644]</td>\n",
       "      <td>1</td>\n",
       "    </tr>\n",
       "    <tr>\n",
       "      <th>...</th>\n",
       "      <td>...</td>\n",
       "      <td>...</td>\n",
       "    </tr>\n",
       "    <tr>\n",
       "      <th>68</th>\n",
       "      <td>Medicine[13996]</td>\n",
       "      <td>27615</td>\n",
       "    </tr>\n",
       "    <tr>\n",
       "      <th>211</th>\n",
       "      <td>Travel[27]</td>\n",
       "      <td>28397</td>\n",
       "    </tr>\n",
       "    <tr>\n",
       "      <th>151</th>\n",
       "      <td>Mystery &amp; Thrillers[18]</td>\n",
       "      <td>29706</td>\n",
       "    </tr>\n",
       "    <tr>\n",
       "      <th>221</th>\n",
       "      <td>Travel Books[639538]</td>\n",
       "      <td>31248</td>\n",
       "    </tr>\n",
       "    <tr>\n",
       "      <th>219</th>\n",
       "      <td>Travel[605012]</td>\n",
       "      <td>31289</td>\n",
       "    </tr>\n",
       "    <tr>\n",
       "      <th>220</th>\n",
       "      <td>Categories[3074321]</td>\n",
       "      <td>31289</td>\n",
       "    </tr>\n",
       "    <tr>\n",
       "      <th>39</th>\n",
       "      <td>Social Sciences[11232]</td>\n",
       "      <td>31389</td>\n",
       "    </tr>\n",
       "    <tr>\n",
       "      <th>155</th>\n",
       "      <td>Formats[504358]</td>\n",
       "      <td>34518</td>\n",
       "    </tr>\n",
       "    <tr>\n",
       "      <th>160</th>\n",
       "      <td>Entertainment[86]</td>\n",
       "      <td>34798</td>\n",
       "    </tr>\n",
       "    <tr>\n",
       "      <th>29</th>\n",
       "      <td>Arts &amp; Photography[1]</td>\n",
       "      <td>36471</td>\n",
       "    </tr>\n",
       "    <tr>\n",
       "      <th>10</th>\n",
       "      <td>Home &amp; Garden[48]</td>\n",
       "      <td>39597</td>\n",
       "    </tr>\n",
       "    <tr>\n",
       "      <th>281</th>\n",
       "      <td>Biographies &amp; Memoirs[2]</td>\n",
       "      <td>40061</td>\n",
       "    </tr>\n",
       "    <tr>\n",
       "      <th>418</th>\n",
       "      <td>Science[75]</td>\n",
       "      <td>41717</td>\n",
       "    </tr>\n",
       "    <tr>\n",
       "      <th>3</th>\n",
       "      <td>Christianity[12290]</td>\n",
       "      <td>41845</td>\n",
       "    </tr>\n",
       "    <tr>\n",
       "      <th>32</th>\n",
       "      <td>History[9]</td>\n",
       "      <td>48129</td>\n",
       "    </tr>\n",
       "    <tr>\n",
       "      <th>468</th>\n",
       "      <td>Reference[21]</td>\n",
       "      <td>50097</td>\n",
       "    </tr>\n",
       "    <tr>\n",
       "      <th>65</th>\n",
       "      <td>Health, Mind &amp; Body[10]</td>\n",
       "      <td>66371</td>\n",
       "    </tr>\n",
       "    <tr>\n",
       "      <th>113</th>\n",
       "      <td>Computers &amp; Internet[5]</td>\n",
       "      <td>66734</td>\n",
       "    </tr>\n",
       "    <tr>\n",
       "      <th>71</th>\n",
       "      <td>Professional &amp; Technical[173507]</td>\n",
       "      <td>67692</td>\n",
       "    </tr>\n",
       "    <tr>\n",
       "      <th>110</th>\n",
       "      <td>Business &amp; Investing[3]</td>\n",
       "      <td>74124</td>\n",
       "    </tr>\n",
       "    <tr>\n",
       "      <th>127</th>\n",
       "      <td>Business &amp; Investing Books[767740]</td>\n",
       "      <td>76457</td>\n",
       "    </tr>\n",
       "    <tr>\n",
       "      <th>58</th>\n",
       "      <td>Literature &amp; Fiction[17]</td>\n",
       "      <td>84709</td>\n",
       "    </tr>\n",
       "    <tr>\n",
       "      <th>126</th>\n",
       "      <td>Home &amp; Office[764512]</td>\n",
       "      <td>90409</td>\n",
       "    </tr>\n",
       "    <tr>\n",
       "      <th>2</th>\n",
       "      <td>Religion &amp; Spirituality[22]</td>\n",
       "      <td>93648</td>\n",
       "    </tr>\n",
       "    <tr>\n",
       "      <th>38</th>\n",
       "      <td>Nonfiction[53]</td>\n",
       "      <td>106966</td>\n",
       "    </tr>\n",
       "    <tr>\n",
       "      <th>125</th>\n",
       "      <td>Amazon.com Stores[285080]</td>\n",
       "      <td>123925</td>\n",
       "    </tr>\n",
       "    <tr>\n",
       "      <th>124</th>\n",
       "      <td>[265523]</td>\n",
       "      <td>123925</td>\n",
       "    </tr>\n",
       "    <tr>\n",
       "      <th>130</th>\n",
       "      <td>Children's Books[4]</td>\n",
       "      <td>134263</td>\n",
       "    </tr>\n",
       "    <tr>\n",
       "      <th>1</th>\n",
       "      <td>Subjects[1000]</td>\n",
       "      <td>1222638</td>\n",
       "    </tr>\n",
       "    <tr>\n",
       "      <th>0</th>\n",
       "      <td>Books[283155]</td>\n",
       "      <td>1286848</td>\n",
       "    </tr>\n",
       "  </tbody>\n",
       "</table>\n",
       "<p>14923 rows × 2 columns</p>\n",
       "</div>"
      ],
      "text/plain": [
       "                                    index        0\n",
       "14922           Unlikely Heroes[14155061]        1\n",
       "12423           All Works by Elgar[18108]        1\n",
       "14041                    Basketball[2519]        1\n",
       "12424                        ( F )[18353]        1\n",
       "9906                         Cyprus[4944]        1\n",
       "14042                  Basketball[733936]        1\n",
       "9909   The Cooper Kids Adventures[280259]        1\n",
       "12425                Franck, César[19108]        1\n",
       "12422            Elgar, Sir Edward[18091]        1\n",
       "12426                      General[19118]        1\n",
       "12429              Gesualdo, Carlo[19767]        1\n",
       "12430        All Works by Gesualdo[19770]        1\n",
       "14047              I Want to Know[280266]        1\n",
       "14048             Actors & Actresses[140]        1\n",
       "14049                       ( S )[157485]        1\n",
       "12431             Gibbons, Orlando[19812]        1\n",
       "12432          Gluck, Christoph W.[20119]        1\n",
       "12428           Gabrieli, Giovanni[19403]        1\n",
       "14050               Spader, James[158841]        1\n",
       "14038                Soutine, Chaim[1420]        1\n",
       "14035         Satterthwait, Walter[69627]        1\n",
       "12415                Dowland, John[17499]        1\n",
       "14010              Hand of Thrawn[733746]        1\n",
       "14011               Butler, Marilyn[5935]        1\n",
       "14012             Daudet, Alphonse[70199]        1\n",
       "9818                    Lee, Tanith[7708]        1\n",
       "12416         All Works by Dowland[17520]        1\n",
       "13170                 Russ, Joanna[15863]        1\n",
       "9885                        Bahrain[4996]        1\n",
       "12417             Dufay, Guillaume[17644]        1\n",
       "...                                   ...      ...\n",
       "68                        Medicine[13996]    27615\n",
       "211                            Travel[27]    28397\n",
       "151               Mystery & Thrillers[18]    29706\n",
       "221                  Travel Books[639538]    31248\n",
       "219                        Travel[605012]    31289\n",
       "220                   Categories[3074321]    31289\n",
       "39                 Social Sciences[11232]    31389\n",
       "155                       Formats[504358]    34518\n",
       "160                     Entertainment[86]    34798\n",
       "29                  Arts & Photography[1]    36471\n",
       "10                      Home & Garden[48]    39597\n",
       "281              Biographies & Memoirs[2]    40061\n",
       "418                           Science[75]    41717\n",
       "3                     Christianity[12290]    41845\n",
       "32                             History[9]    48129\n",
       "468                         Reference[21]    50097\n",
       "65                Health, Mind & Body[10]    66371\n",
       "113               Computers & Internet[5]    66734\n",
       "71       Professional & Technical[173507]    67692\n",
       "110               Business & Investing[3]    74124\n",
       "127    Business & Investing Books[767740]    76457\n",
       "58               Literature & Fiction[17]    84709\n",
       "126                 Home & Office[764512]    90409\n",
       "2             Religion & Spirituality[22]    93648\n",
       "38                         Nonfiction[53]   106966\n",
       "125             Amazon.com Stores[285080]   123925\n",
       "124                              [265523]   123925\n",
       "130                   Children's Books[4]   134263\n",
       "1                          Subjects[1000]  1222638\n",
       "0                           Books[283155]  1286848\n",
       "\n",
       "[14923 rows x 2 columns]"
      ]
     },
     "execution_count": 26,
     "metadata": {},
     "output_type": "execute_result"
    }
   ],
   "source": [
    "categories.sort_values(0)"
   ]
  },
  {
   "cell_type": "markdown",
   "metadata": {},
   "source": [
    "# Part B\n",
    "Give the number crunching a rest! Just think about these problems.\n",
    "\n",
    "1. Algorithm thinking: \n",
    "\n",
    "How would you build the product categorization from scratch, using similar/co-purchased information?\n",
    "\n",
    " **To create a new product categorization from scratch, Natural Language Toolkit and a clustering algorithm like Support Vector Machine can be used to identify most common categories. **\n",
    "    \n",
    "2. Product thinking:\n",
    "\n",
    "Now, put on your 'product thinking' hat:\n",
    "\n",
    "a. Is it a good idea to show users the categorization hierarchy for items?\n",
    "\n",
    "**It may be a good idea to show users the categorization hierarchy for items. However, it should be noted that the number of categories should limited otherwise it might be overwhelmed to users. **\n",
    "   \n",
    "b. Is it a good idea to show users similar/co-purchased items?    \n",
    "c. Is it a good idea to show users reviews and ratings for items?\n",
    "\n",
    "**It is always good idea to show users similar/co-purchased items since it may help a user while making shopping decision or widen his/her shopping perspective/experience. Similarly, showing users reviews and ratings for the items might also be helpful a user's shopping decision. **\n",
    "    \n"
   ]
  },
  {
   "cell_type": "markdown",
   "metadata": {},
   "source": [
    "\n",
    "\n"
   ]
  },
  {
   "cell_type": "code",
   "execution_count": null,
   "metadata": {
    "collapsed": true
   },
   "outputs": [],
   "source": []
  },
  {
   "cell_type": "code",
   "execution_count": null,
   "metadata": {
    "collapsed": true
   },
   "outputs": [],
   "source": []
  },
  {
   "cell_type": "code",
   "execution_count": null,
   "metadata": {
    "collapsed": true
   },
   "outputs": [],
   "source": []
  }
 ],
 "metadata": {
  "kernelspec": {
   "display_name": "Python 3",
   "language": "python",
   "name": "python3"
  },
  "language_info": {
   "codemirror_mode": {
    "name": "ipython",
    "version": 3
   },
   "file_extension": ".py",
   "mimetype": "text/x-python",
   "name": "python",
   "nbconvert_exporter": "python",
   "pygments_lexer": "ipython3",
   "version": "3.6.0"
  }
 },
 "nbformat": 4,
 "nbformat_minor": 2
}
